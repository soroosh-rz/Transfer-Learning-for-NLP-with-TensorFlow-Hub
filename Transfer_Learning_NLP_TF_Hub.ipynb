{
  "nbformat": 4,
  "nbformat_minor": 0,
  "metadata": {
    "colab": {
      "name": "Transfer-Learning-NLP-TF-Hub.ipynb",
      "provenance": [],
      "collapsed_sections": []
    },
    "kernelspec": {
      "name": "python3",
      "display_name": "Python 3"
    },
    "accelerator": "GPU"
  },
  "cells": [
    {
      "cell_type": "markdown",
      "metadata": {
        "id": "YOPcjnDDc5c7"
      },
      "source": [
        "<h2 align=left> Transfer Learning for NLP with TensorFlow Hub</h2>\n",
        "\n",
        "---"
      ]
    },
    {
      "cell_type": "markdown",
      "metadata": {
        "id": "bgBRL1nR_jdt"
      },
      "source": [
        "This is a starter notebook for the guided project [Transfer Learning for NLP with TensorFlow Hub](https://www.coursera.org/projects/transfer-learning-nlp-tensorflow-hub/)\n",
        "\n",
        "A complete version of this notebook is available in the course resources.\n",
        "\n",
        "---"
      ]
    },
    {
      "cell_type": "markdown",
      "metadata": {
        "id": "ak95VdGNn3lJ"
      },
      "source": [
        "### Overview\n",
        "\n",
        "[TensorFlow Hub](https://tfhub.dev/) is a repository of pre-trained TensorFlow models.\n",
        "\n",
        "In this project, you will use pre-trained models from TensorFlow Hub with [`tf.keras`](https://www.tensorflow.org/api_docs/python/tf/keras) for text classification. Transfer learning makes it possible to save training resources and to achieve good model generalization even when training on a small dataset. In this project, we will demonstrate this by training with several different TF-Hub modules."
      ]
    },
    {
      "cell_type": "markdown",
      "metadata": {
        "id": "cNNs4oBDoSf-"
      },
      "source": [
        "### Learning Objectives"
      ]
    },
    {
      "cell_type": "markdown",
      "metadata": {
        "id": "MyoqkQFsoUzB"
      },
      "source": [
        "By the time you complete this project, you will be able to:\n",
        "\n",
        "- Use various pre-trained NLP text embedding models from TensorFlow Hub\n",
        "- Perform transfer learning to fine-tune models on your own text data\n",
        "- Visualize model performance metrics with [TensorBoard](https://www.tensorflow.org/tensorboard)"
      ]
    },
    {
      "cell_type": "markdown",
      "metadata": {
        "id": "n_BTLVEapAm0"
      },
      "source": [
        "### Prerequisites"
      ]
    },
    {
      "cell_type": "markdown",
      "metadata": {
        "id": "-MAL1ZXnpCiF"
      },
      "source": [
        "In order to be successful with this project, it is assumed you are:\n",
        "\n",
        "- Competent in the Python programming language\n",
        "- Familiar with deep learning for Natural Language Processing (NLP)\n",
        "- Familiar with TensorFlow, and its Keras API"
      ]
    },
    {
      "cell_type": "markdown",
      "metadata": {
        "id": "5d14nw7gpEth"
      },
      "source": [
        "### Contents"
      ]
    },
    {
      "cell_type": "markdown",
      "metadata": {
        "id": "zGRlcriNpJGO"
      },
      "source": [
        "This project/notebook consists of several Tasks.\n",
        "\n",
        "- **[Task 1]()**: Introduction to the Project.\n",
        "- **[Task 2]()**: Setup your TensorFlow and Colab Runtime\n",
        "- **[Task 3]()**: Download and Import the Quora Insincere Questions Dataset\n",
        "- **[Task 4]()**: TensorFlow Hub for Natural Language Processing\n",
        "- **[Task 5]()**: Define Function to Build and Compile Models\n",
        "- **[Task 6]()**: Define Function to Build and Compile Models(Continued...)\n",
        "- **[Task 7]()**: Train Various Text Classification Models\n",
        "- **[Task 8]()**: Compare Accuracy and Loss Curves\n",
        "- **[Task 9]()**: Fine-tuning Models from TF Hub\n",
        "- **[Task 10]()**: Train Bigger Models and Visualize Metrics with TensorBoard"
      ]
    },
    {
      "cell_type": "markdown",
      "metadata": {
        "id": "kAxib00jpYbS"
      },
      "source": [
        "## Task 2: Setup your TensorFlow and Colab Runtime."
      ]
    },
    {
      "cell_type": "markdown",
      "metadata": {
        "id": "GIPs2VnspY9l"
      },
      "source": [
        "You will only be able to use the Colab Notebook after you save it to your Google Drive folder. Click on the File menu and select “Save a copy in Drive…\n",
        "\n",
        "![Copy to Drive](https://drive.google.com/uc?id=1CH3eDmuJL8WR0AP1r3UE6sOPuqq8_Wl7)\n"
      ]
    },
    {
      "cell_type": "markdown",
      "metadata": {
        "id": "wcz2wdA_pez8"
      },
      "source": [
        "### Check GPU Availability\n",
        "\n",
        "Check if your Colab notebook is configured to use Graphical Processing Units (GPUs). If zero GPUs are available, check if the Colab notebook is configured to use GPUs (Menu > Runtime > Change Runtime Type).\n",
        "\n",
        "![Hardware Accelerator Settings](https://drive.google.com/uc?id=1qrihuuMtvzXJHiRV8M7RngbxFYipXKQx)\n"
      ]
    },
    {
      "cell_type": "code",
      "metadata": {
        "id": "PwWXcwno4wB9",
        "colab": {
          "base_uri": "https://localhost:8080/"
        },
        "outputId": "992b3ecc-32f6-4d14-c48d-cb5cb0b26b9b"
      },
      "source": [
        "!nvidia-smi"
      ],
      "execution_count": 1,
      "outputs": [
        {
          "output_type": "stream",
          "text": [
            "Fri Jun 11 01:42:51 2021       \n",
            "+-----------------------------------------------------------------------------+\n",
            "| NVIDIA-SMI 465.27       Driver Version: 460.32.03    CUDA Version: 11.2     |\n",
            "|-------------------------------+----------------------+----------------------+\n",
            "| GPU  Name        Persistence-M| Bus-Id        Disp.A | Volatile Uncorr. ECC |\n",
            "| Fan  Temp  Perf  Pwr:Usage/Cap|         Memory-Usage | GPU-Util  Compute M. |\n",
            "|                               |                      |               MIG M. |\n",
            "|===============================+======================+======================|\n",
            "|   0  Tesla T4            Off  | 00000000:00:04.0 Off |                    0 |\n",
            "| N/A   64C    P8    11W /  70W |      0MiB / 15109MiB |      0%      Default |\n",
            "|                               |                      |                  N/A |\n",
            "+-------------------------------+----------------------+----------------------+\n",
            "                                                                               \n",
            "+-----------------------------------------------------------------------------+\n",
            "| Processes:                                                                  |\n",
            "|  GPU   GI   CI        PID   Type   Process name                  GPU Memory |\n",
            "|        ID   ID                                                   Usage      |\n",
            "|=============================================================================|\n",
            "|  No running processes found                                                 |\n",
            "+-----------------------------------------------------------------------------+\n"
          ],
          "name": "stdout"
        }
      ]
    },
    {
      "cell_type": "code",
      "metadata": {
        "id": "YxB26qlms3qE",
        "colab": {
          "base_uri": "https://localhost:8080/"
        },
        "outputId": "efaf37b4-a7c4-4d4b-db3d-dae6cf273c6c"
      },
      "source": [
        "import numpy as np\n",
        "import pandas as pd\n",
        "\n",
        "import tensorflow as tf\n",
        "import tensorflow_hub as hub\n",
        "import tensorflow_datasets as tfds\n",
        "\n",
        "import matplotlib.pyplot as plt\n",
        "plt.rcParams['figure.figsize'] = (12, 8)\n",
        "from  IPython import display\n",
        "\n",
        "import pathlib\n",
        "import shutil\n",
        "import tempfile\n",
        "\n",
        "!pip install -q git+https://github.com/tensorflow/docs\n",
        "\n",
        "import tensorflow_docs as tfdocs\n",
        "import tensorflow_docs.modeling\n",
        "import tensorflow_docs.plots\n",
        "\n",
        "print(\"Version: \", tf.__version__)\n",
        "print(\"Hub version: \", hub.__version__)\n",
        "print(\"GPU is\", \"available\" if tf.config.list_physical_devices('GPU') else \"NOT AVAILABLE\")\n",
        "\n",
        "logdir = pathlib.Path(tempfile.mkdtemp())/\"tensorboard_logs\"\n",
        "shutil.rmtree(logdir, ignore_errors=True)"
      ],
      "execution_count": 2,
      "outputs": [
        {
          "output_type": "stream",
          "text": [
            "  Building wheel for tensorflow-docs (setup.py) ... \u001b[?25l\u001b[?25hdone\n",
            "Version:  2.5.0\n",
            "Hub version:  0.12.0\n",
            "GPU is available\n"
          ],
          "name": "stdout"
        }
      ]
    },
    {
      "cell_type": "markdown",
      "metadata": {
        "id": "J6qe4NYUp0vU"
      },
      "source": [
        "## Task 3: Download and Import the Quora Insincere Questions Dataset"
      ]
    },
    {
      "cell_type": "markdown",
      "metadata": {
        "id": "dnRK0VlaDChm"
      },
      "source": [
        "A downloadable copy of the [Quora Insincere Questions Classification data](https://www.kaggle.com/c/quora-insincere-questions-classification/data) can be found [https://archive.org/download/fine-tune-bert-tensorflow-train.csv/train.csv.zip](https://archive.org/download/fine-tune-bert-tensorflow-train.csv/train.csv.zip). Decompress and read the data into a pandas DataFrame."
      ]
    },
    {
      "cell_type": "code",
      "metadata": {
        "id": "hfF56xcgs8Eb",
        "colab": {
          "base_uri": "https://localhost:8080/"
        },
        "outputId": "36a94e82-76fe-44a6-c33b-00bee6b117d4"
      },
      "source": [
        "df  = pd.read_csv('https://archive.org/download/fine-tune-bert-tensorflow-train.csv/train.csv.zip', compression='zip', low_memory=False)\n",
        "df.shape"
      ],
      "execution_count": 3,
      "outputs": [
        {
          "output_type": "execute_result",
          "data": {
            "text/plain": [
              "(1306122, 3)"
            ]
          },
          "metadata": {
            "tags": []
          },
          "execution_count": 3
        }
      ]
    },
    {
      "cell_type": "code",
      "metadata": {
        "colab": {
          "base_uri": "https://localhost:8080/",
          "height": 206
        },
        "id": "K5Ixk0vylNoh",
        "outputId": "ec728e5e-e5ae-417a-8563-0cf2e864882c"
      },
      "source": [
        "df.head()"
      ],
      "execution_count": 4,
      "outputs": [
        {
          "output_type": "execute_result",
          "data": {
            "text/html": [
              "<div>\n",
              "<style scoped>\n",
              "    .dataframe tbody tr th:only-of-type {\n",
              "        vertical-align: middle;\n",
              "    }\n",
              "\n",
              "    .dataframe tbody tr th {\n",
              "        vertical-align: top;\n",
              "    }\n",
              "\n",
              "    .dataframe thead th {\n",
              "        text-align: right;\n",
              "    }\n",
              "</style>\n",
              "<table border=\"1\" class=\"dataframe\">\n",
              "  <thead>\n",
              "    <tr style=\"text-align: right;\">\n",
              "      <th></th>\n",
              "      <th>qid</th>\n",
              "      <th>question_text</th>\n",
              "      <th>target</th>\n",
              "    </tr>\n",
              "  </thead>\n",
              "  <tbody>\n",
              "    <tr>\n",
              "      <th>0</th>\n",
              "      <td>00002165364db923c7e6</td>\n",
              "      <td>How did Quebec nationalists see their province...</td>\n",
              "      <td>0</td>\n",
              "    </tr>\n",
              "    <tr>\n",
              "      <th>1</th>\n",
              "      <td>000032939017120e6e44</td>\n",
              "      <td>Do you have an adopted dog, how would you enco...</td>\n",
              "      <td>0</td>\n",
              "    </tr>\n",
              "    <tr>\n",
              "      <th>2</th>\n",
              "      <td>0000412ca6e4628ce2cf</td>\n",
              "      <td>Why does velocity affect time? Does velocity a...</td>\n",
              "      <td>0</td>\n",
              "    </tr>\n",
              "    <tr>\n",
              "      <th>3</th>\n",
              "      <td>000042bf85aa498cd78e</td>\n",
              "      <td>How did Otto von Guericke used the Magdeburg h...</td>\n",
              "      <td>0</td>\n",
              "    </tr>\n",
              "    <tr>\n",
              "      <th>4</th>\n",
              "      <td>0000455dfa3e01eae3af</td>\n",
              "      <td>Can I convert montra helicon D to a mountain b...</td>\n",
              "      <td>0</td>\n",
              "    </tr>\n",
              "  </tbody>\n",
              "</table>\n",
              "</div>"
            ],
            "text/plain": [
              "                    qid  ... target\n",
              "0  00002165364db923c7e6  ...      0\n",
              "1  000032939017120e6e44  ...      0\n",
              "2  0000412ca6e4628ce2cf  ...      0\n",
              "3  000042bf85aa498cd78e  ...      0\n",
              "4  0000455dfa3e01eae3af  ...      0\n",
              "\n",
              "[5 rows x 3 columns]"
            ]
          },
          "metadata": {
            "tags": []
          },
          "execution_count": 4
        }
      ]
    },
    {
      "cell_type": "code",
      "metadata": {
        "id": "08kiCrj5tzcj",
        "colab": {
          "base_uri": "https://localhost:8080/",
          "height": 517
        },
        "outputId": "6db9c9b1-1898-4fff-c4bc-346d74876b90"
      },
      "source": [
        "df['target'].plot(kind='hist', title='Target distribution')"
      ],
      "execution_count": 5,
      "outputs": [
        {
          "output_type": "execute_result",
          "data": {
            "text/plain": [
              "<matplotlib.axes._subplots.AxesSubplot at 0x7f9e388a8bd0>"
            ]
          },
          "metadata": {
            "tags": []
          },
          "execution_count": 5
        },
        {
          "output_type": "display_data",
          "data": {
            "image/png": "[encoded data removed]",
            "text/plain": [
              "<Figure size 864x576 with 1 Axes>"
            ]
          },
          "metadata": {
            "tags": [],
            "needs_background": "light"
          }
        }
      ]
    },
    {
      "cell_type": "code",
      "metadata": {
        "id": "VfWdbhfYs8Ha",
        "colab": {
          "base_uri": "https://localhost:8080/"
        },
        "outputId": "ccb6a26c-87ba-4615-d8b8-7df263f3e0a8"
      },
      "source": [
        "from sklearn.model_selection import train_test_split\n",
        "\n",
        "train_df, remaining = train_test_split(df, random_state=42, train_size=0.01, stratify=df.target.values)\n",
        "valid_df, _ = train_test_split(remaining, random_state=42, train_size=0.001, stratify=remaining.target.values)\n",
        "train_df.shape, valid_df.shape"
      ],
      "execution_count": 6,
      "outputs": [
        {
          "output_type": "execute_result",
          "data": {
            "text/plain": [
              "((13061, 3), (1293, 3))"
            ]
          },
          "metadata": {
            "tags": []
          },
          "execution_count": 6
        }
      ]
    },
    {
      "cell_type": "code",
      "metadata": {
        "id": "VX1UEsALs8J8",
        "colab": {
          "base_uri": "https://localhost:8080/"
        },
        "outputId": "83242688-8fd3-412b-a6eb-a376c5c461d3"
      },
      "source": [
        "train_df.target.head(15).values"
      ],
      "execution_count": 7,
      "outputs": [
        {
          "output_type": "execute_result",
          "data": {
            "text/plain": [
              "array([0, 0, 0, 0, 0, 0, 0, 0, 0, 0, 0, 1, 0, 0, 0])"
            ]
          },
          "metadata": {
            "tags": []
          },
          "execution_count": 7
        }
      ]
    },
    {
      "cell_type": "code",
      "metadata": {
        "id": "G_E6VWNTs8Mn",
        "colab": {
          "base_uri": "https://localhost:8080/"
        },
        "outputId": "02e83214-4138-4316-aadd-d36a00f08fba"
      },
      "source": [
        "train_df.question_text.head(15).values"
      ],
      "execution_count": 8,
      "outputs": [
        {
          "output_type": "execute_result",
          "data": {
            "text/plain": [
              "array(['What is your experience living in Venezuela in the current crisis? (2018)',\n",
              "       'In which state/city the price of property is highest?',\n",
              "       'Do rich blacks also call poor whites, “White Trash”?',\n",
              "       'Should my 5 yr old son and 2 yr old daughter spend the summer with their father, after a domestic violent relationship?',\n",
              "       'Why do we have parents?',\n",
              "       'Do we experience ghost like Murphy did in Interstellar?',\n",
              "       'Are Estoniano women beautiful?',\n",
              "       'There was a Funny or Die video called Sensitivity Hoedown that got pulled. Does anyone know why?',\n",
              "       'Is it a good idea to go in fully mainstream classes, even if I have meltdowns that might disrupt people?',\n",
              "       'What classifies a third world country as such?',\n",
              "       'Is being a pilot safe?',\n",
              "       'Who is Illiteratendra Modi? Why does he keep with him a Rs 1 lakh pen?',\n",
              "       'Have modern management strategies such as Total supply Chain Management applied to education? Can they be?',\n",
              "       'Why are Lucky Charms considered good for you?',\n",
              "       'How many people in India use WhatsApp, Facebook, Twitter and Instagram?'],\n",
              "      dtype=object)"
            ]
          },
          "metadata": {
            "tags": []
          },
          "execution_count": 8
        }
      ]
    },
    {
      "cell_type": "markdown",
      "metadata": {
        "id": "Hu6lFucLp4Bn"
      },
      "source": [
        "## Task 4: TensorFlow Hub for Natural Language Processing"
      ]
    },
    {
      "cell_type": "markdown",
      "metadata": {
        "id": "2dDjc3ypg1uh"
      },
      "source": [
        "Our text data consits of questions and corresponding labels.\n",
        "\n",
        "You can think of a question vector as a distributed representation of a question, and is computed for every question in the training set. The question vector along with the output label is then used to train the statistical classification model. \n",
        "\n",
        "The intuition is that the question vector captures the semantics of the question and, as a result, can be effectively used for classification. \n",
        "\n",
        "To obtain question vectors, we have two alternatives that have been used for several text classification problems in NLP: \n",
        "* word-based representations and \n",
        "* context-based representations"
      ]
    },
    {
      "cell_type": "markdown",
      "metadata": {
        "id": "PKLfQ-LAhdQZ"
      },
      "source": [
        "#### Word-based Representations\n",
        "\n",
        "- A **word-based representation** of a question combines word embeddings of the content words in the question. We can use the average of the word embeddings of content words in the question. Average of word embeddings have been used for different NLP tasks.\n",
        "- Examples of pre-trained embeddings include:\n",
        "  - **Word2Vec**: These are pre-trained embeddings of words learned from a large text corpora. Word2Vec has been pre-trained on a corpus of news articles with  300 million tokens, resulting in 300-dimensional vectors.\n",
        "  - **GloVe**: has been pre-trained on a corpus of tweets with 27 billion tokens, resulting in 200-dimensional vectors.\n"
      ]
    },
    {
      "cell_type": "markdown",
      "metadata": {
        "id": "EoHvyDd7i7Hx"
      },
      "source": [
        "#### Context-based Representations\n",
        "\n",
        "- **Context-based representations** may use language models to generate vectors of sentences. So, instead of learning vectors for individual words in the sentence, they compute a vector for sentences on the whole, by taking into account the order of words and the set of co-occurring words.\n",
        "- Examples of deep contextualised vectors include:\n",
        "  - **Embeddings from Language Models (ELMo)**: uses character-based word representations and bidirectional LSTMs. The pre-trained model computes a contextualised vector of 1024 dimensions. ELMo is available on Tensorflow Hub.\n",
        "  - **Universal Sentence Encoder (USE)**: The encoder uses a Transformer  architecture that uses attention mechanism to incorporate information about the order and the collection of words. The pre-trained model of USE that returns a vector of 512 dimensions is also available on Tensorflow Hub.\n",
        "  - **Neural-Net Language Model (NNLM)**: The model simultaneously learns representations of words and probability functions for word sequences, allowing it to capture semantics of a sentence. We will use a  pretrained  models available on Tensorflow Hub, that are trained on the English Google News 200B corpus, and computes a vector of 128 dimensions for the larger model and 50 dimensions for the smaller model.\n"
      ]
    },
    {
      "cell_type": "markdown",
      "metadata": {
        "id": "3ZrM-BpDrxUG"
      },
      "source": [
        "Tensorflow Hub provides a number of [modules](https://tfhub.dev/s?module-type=text-embedding&tf-version=tf2&q=tf2) to convert sentences into embeddings such as Universal sentence ecoders, NNLM, BERT and Wikiwords."
      ]
    },
    {
      "cell_type": "markdown",
      "metadata": {
        "id": "8TOn7rWN4BW-"
      },
      "source": [
        "Transfer learning makes it possible to save training resources and to achieve good model generalization even when training on a small dataset. In this project, we will demonstrate this by training with several different TF-Hub modules."
      ]
    },
    {
      "cell_type": "code",
      "metadata": {
        "id": "ePW3i1zos8PP"
      },
      "source": [
        "module_url = \"https://tfhub.dev/google/tf2-preview/gnews-swivel-20dim/1\" #@param [\"https://tfhub.dev/google/tf2-preview/gnews-swivel-20dim/1\", \"https://tfhub.dev/google/tf2-preview/nnlm-en-dim50/1\", \"https://tfhub.dev/google/tf2-preview/nnlm-en-dim128/1\", \"https://tfhub.dev/google/universal-sentence-encoder/4\", \"https://tfhub.dev/google/universal-sentence-encoder-large/5\"] {allow-input: true}"
      ],
      "execution_count": 9,
      "outputs": []
    },
    {
      "cell_type": "code",
      "metadata": {
        "colab": {
          "base_uri": "https://localhost:8080/",
          "height": 36
        },
        "id": "AyRVnUbRJqZM",
        "outputId": "18ef2fc8-eb55-4393-ef73-1212c4d612d9"
      },
      "source": [
        "module_url"
      ],
      "execution_count": 10,
      "outputs": [
        {
          "output_type": "execute_result",
          "data": {
            "application/vnd.google.colaboratory.intrinsic+json": {
              "type": "string"
            },
            "text/plain": [
              "'https://tfhub.dev/google/tf2-preview/gnews-swivel-20dim/1'"
            ]
          },
          "metadata": {
            "tags": []
          },
          "execution_count": 10
        }
      ]
    },
    {
      "cell_type": "markdown",
      "metadata": {
        "id": "bTTELVrtqPwW"
      },
      "source": [
        "## Tasks 5 & 6: Define Function to Build and Compile Models"
      ]
    },
    {
      "cell_type": "code",
      "metadata": {
        "id": "B6di0eiFs8ch"
      },
      "source": [
        "def train_and_evaluate_model(module_url, embed_size, name, trainable=False):\n",
        "  hub_layer = hub.KerasLayer(module_url, output_shape=[embed_size],input_shape=[], dtype=tf.string, trainable=trainable)\n",
        "  model = tf.keras.models.Sequential([\n",
        "                                      hub_layer,\n",
        "                                      tf.keras.layers.Dense(266, activation='relu'),\n",
        "                                      tf.keras.layers.Dense(64, activation='relu'),\n",
        "                                      tf.keras.layers.Dense(1, activation='sigmoid')])\n",
        "  model.compile(optimizer=tf.keras.optimizers.Adam(learning_rate=0.0001),\n",
        "                loss=tf.losses.BinaryCrossentropy(),\n",
        "                metrics=tf.metrics.BinaryAccuracy(name='accuracy'))\n",
        "  print(model.summary())\n",
        "  history = model.fit(train_df['question_text'], train_df['target'],\n",
        "                      epochs=100,\n",
        "                      batch_size=32,\n",
        "                      validation_data=(valid_df['question_text'], valid_df['target']),\n",
        "                      callbacks=[tfdocs.modeling.EpochDots(),\n",
        "                                 tf.keras.callbacks.EarlyStopping(monitor='val_loss', patience=2, mode='min'),\n",
        "                                 tf.keras.callbacks.TensorBoard(log_dir=logdir/name)],\n",
        "                      verbose=0)\n",
        "  return history"
      ],
      "execution_count": 11,
      "outputs": []
    },
    {
      "cell_type": "markdown",
      "metadata": {
        "id": "51YeToW1qpdi"
      },
      "source": [
        "## Task 7: Train Various Text Classification Models"
      ]
    },
    {
      "cell_type": "code",
      "metadata": {
        "id": "JmKhdRH1SsXG"
      },
      "source": [
        "histories = {}"
      ],
      "execution_count": 12,
      "outputs": []
    },
    {
      "cell_type": "code",
      "metadata": {
        "id": "GWfWIypew-lk"
      },
      "source": [
        "module_url = \"https://tfhub.dev/google/universal-sentence-encoder-large/5\" #@param [\"https://tfhub.dev/google/tf2-preview/gnews-swivel-20dim/1\", \"https://tfhub.dev/google/tf2-preview/nnlm-en-dim50/1\", \"https://tfhub.dev/google/tf2-preview/nnlm-en-dim128/1\", \"https://tfhub.dev/google/universal-sentence-encoder/4\", \"https://tfhub.dev/google/universal-sentence-encoder-large/5\"] {allow-input: true}"
      ],
      "execution_count": 13,
      "outputs": []
    },
    {
      "cell_type": "code",
      "metadata": {
        "id": "CfS-PM_U68QF"
      },
      "source": [
        "module_url_1 = \"https://tfhub.dev/google/tf2-preview/gnews-swivel-20dim/1\"\n",
        "module_url_2 = \"https://tfhub.dev/google/tf2-preview/nnlm-en-dim50/1\"\n",
        "module_url_3 = \"https://tfhub.dev/google/tf2-preview/nnlm-en-dim128/1\""
      ],
      "execution_count": 14,
      "outputs": []
    },
    {
      "cell_type": "code",
      "metadata": {
        "colab": {
          "base_uri": "https://localhost:8080/"
        },
        "id": "3SQNBkl7S7zo",
        "outputId": "27eea15b-67dd-4462-dd82-eeace6e51358"
      },
      "source": [
        "histories['gnews-swivel-20dim'] = train_and_evaluate_model(module_url=module_url_1, embed_size=20, name='gnews-swivel-20dim')\n",
        "histories['nnlm-en-dim50'] = train_and_evaluate_model(module_url=module_url_2, embed_size=50, name='nnlm-en-dim50')\n",
        "histories['nnlm-en-dim128'] = train_and_evaluate_model(module_url=module_url_3, embed_size=128, name='nnlm-en-dim128')"
      ],
      "execution_count": 15,
      "outputs": [
        {
          "output_type": "stream",
          "text": [
            "Model: \"sequential\"\n",
            "_________________________________________________________________\n",
            "Layer (type)                 Output Shape              Param #   \n",
            "=================================================================\n",
            "keras_layer (KerasLayer)     (None, 20)                400020    \n",
            "_________________________________________________________________\n",
            "dense (Dense)                (None, 266)               5586      \n",
            "_________________________________________________________________\n",
            "dense_1 (Dense)              (None, 64)                17088     \n",
            "_________________________________________________________________\n",
            "dense_2 (Dense)              (None, 1)                 65        \n",
            "=================================================================\n",
            "Total params: 422,759\n",
            "Trainable params: 22,739\n",
            "Non-trainable params: 400,020\n",
            "_________________________________________________________________\n",
            "None\n",
            "WARNING:tensorflow:Callback method `on_train_batch_begin` is slow compared to the batch time (batch time: 0.0036s vs `on_train_batch_begin` time: 0.0464s). Check your callbacks.\n"
          ],
          "name": "stdout"
        },
        {
          "output_type": "stream",
          "text": [
            "WARNING:tensorflow:Callback method `on_train_batch_begin` is slow compared to the batch time (batch time: 0.0036s vs `on_train_batch_begin` time: 0.0464s). Check your callbacks.\n"
          ],
          "name": "stderr"
        },
        {
          "output_type": "stream",
          "text": [
            "WARNING:tensorflow:Callback method `on_train_batch_end` is slow compared to the batch time (batch time: 0.0036s vs `on_train_batch_end` time: 0.0297s). Check your callbacks.\n"
          ],
          "name": "stdout"
        },
        {
          "output_type": "stream",
          "text": [
            "WARNING:tensorflow:Callback method `on_train_batch_end` is slow compared to the batch time (batch time: 0.0036s vs `on_train_batch_end` time: 0.0297s). Check your callbacks.\n"
          ],
          "name": "stderr"
        },
        {
          "output_type": "stream",
          "text": [
            "\n",
            "Epoch: 0, accuracy:0.9276,  loss:0.2898,  val_accuracy:0.9381,  val_loss:0.2036,  \n",
            "...........Model: \"sequential_1\"\n",
            "_________________________________________________________________\n",
            "Layer (type)                 Output Shape              Param #   \n",
            "=================================================================\n",
            "keras_layer_1 (KerasLayer)   (None, 50)                48190600  \n",
            "_________________________________________________________________\n",
            "dense_3 (Dense)              (None, 266)               13566     \n",
            "_________________________________________________________________\n",
            "dense_4 (Dense)              (None, 64)                17088     \n",
            "_________________________________________________________________\n",
            "dense_5 (Dense)              (None, 1)                 65        \n",
            "=================================================================\n",
            "Total params: 48,221,319\n",
            "Trainable params: 30,719\n",
            "Non-trainable params: 48,190,600\n",
            "_________________________________________________________________\n",
            "None\n",
            "WARNING:tensorflow:Callback method `on_train_batch_begin` is slow compared to the batch time (batch time: 0.0033s vs `on_train_batch_begin` time: 0.0297s). Check your callbacks.\n"
          ],
          "name": "stdout"
        },
        {
          "output_type": "stream",
          "text": [
            "WARNING:tensorflow:Callback method `on_train_batch_begin` is slow compared to the batch time (batch time: 0.0033s vs `on_train_batch_begin` time: 0.0297s). Check your callbacks.\n"
          ],
          "name": "stderr"
        },
        {
          "output_type": "stream",
          "text": [
            "WARNING:tensorflow:Callback method `on_train_batch_end` is slow compared to the batch time (batch time: 0.0033s vs `on_train_batch_end` time: 0.0331s). Check your callbacks.\n"
          ],
          "name": "stdout"
        },
        {
          "output_type": "stream",
          "text": [
            "WARNING:tensorflow:Callback method `on_train_batch_end` is slow compared to the batch time (batch time: 0.0033s vs `on_train_batch_end` time: 0.0331s). Check your callbacks.\n"
          ],
          "name": "stderr"
        },
        {
          "output_type": "stream",
          "text": [
            "\n",
            "Epoch: 0, accuracy:0.9319,  loss:0.3286,  val_accuracy:0.9381,  val_loss:0.2241,  \n",
            ".................Model: \"sequential_2\"\n",
            "_________________________________________________________________\n",
            "Layer (type)                 Output Shape              Param #   \n",
            "=================================================================\n",
            "keras_layer_2 (KerasLayer)   (None, 128)               124642688 \n",
            "_________________________________________________________________\n",
            "dense_6 (Dense)              (None, 266)               34314     \n",
            "_________________________________________________________________\n",
            "dense_7 (Dense)              (None, 64)                17088     \n",
            "_________________________________________________________________\n",
            "dense_8 (Dense)              (None, 1)                 65        \n",
            "=================================================================\n",
            "Total params: 124,694,155\n",
            "Trainable params: 51,467\n",
            "Non-trainable params: 124,642,688\n",
            "_________________________________________________________________\n",
            "None\n",
            "WARNING:tensorflow:Callback method `on_train_batch_begin` is slow compared to the batch time (batch time: 0.0035s vs `on_train_batch_begin` time: 0.0295s). Check your callbacks.\n"
          ],
          "name": "stdout"
        },
        {
          "output_type": "stream",
          "text": [
            "WARNING:tensorflow:Callback method `on_train_batch_begin` is slow compared to the batch time (batch time: 0.0035s vs `on_train_batch_begin` time: 0.0295s). Check your callbacks.\n"
          ],
          "name": "stderr"
        },
        {
          "output_type": "stream",
          "text": [
            "WARNING:tensorflow:Callback method `on_train_batch_end` is slow compared to the batch time (batch time: 0.0035s vs `on_train_batch_end` time: 0.0331s). Check your callbacks.\n"
          ],
          "name": "stdout"
        },
        {
          "output_type": "stream",
          "text": [
            "WARNING:tensorflow:Callback method `on_train_batch_end` is slow compared to the batch time (batch time: 0.0035s vs `on_train_batch_end` time: 0.0331s). Check your callbacks.\n"
          ],
          "name": "stderr"
        },
        {
          "output_type": "stream",
          "text": [
            "\n",
            "Epoch: 0, accuracy:0.9339,  loss:0.3206,  val_accuracy:0.9381,  val_loss:0.2089,  \n",
            ".................."
          ],
          "name": "stdout"
        }
      ]
    },
    {
      "cell_type": "markdown",
      "metadata": {
        "id": "BJSxiRusq6CY"
      },
      "source": [
        "## Task 8: Compare Accuracy and Loss Curves"
      ]
    },
    {
      "cell_type": "code",
      "metadata": {
        "id": "taqgWQRHTfKq",
        "colab": {
          "base_uri": "https://localhost:8080/",
          "height": 513
        },
        "outputId": "1abf3a37-0f90-45f7-e78f-293f1c9bc6ad"
      },
      "source": [
        "plt.rcParams['figure.figsize'] = (12, 8)\n",
        "plotter = tfdocs.plots.HistoryPlotter(metric = 'accuracy')\n",
        "plotter.plot(histories)\n",
        "plt.xlabel(\"Epochs\")\n",
        "plt.legend(bbox_to_anchor=(1.0, 1.0), loc='upper left')\n",
        "plt.title(\"Accuracy Curves for Models\")\n",
        "plt.show()"
      ],
      "execution_count": 17,
      "outputs": [
        {
          "output_type": "display_data",
          "data": {
            "image/png": "[encoded data removed]",
            "text/plain": [
              "<Figure size 864x576 with 1 Axes>"
            ]
          },
          "metadata": {
            "tags": [],
            "needs_background": "light"
          }
        }
      ]
    },
    {
      "cell_type": "code",
      "metadata": {
        "id": "cPxhmeAib7XP",
        "colab": {
          "base_uri": "https://localhost:8080/",
          "height": 513
        },
        "outputId": "fbc99f32-cd26-4511-ccbb-27d8a0151567"
      },
      "source": [
        "plotter = tfdocs.plots.HistoryPlotter(metric = 'loss')\n",
        "plotter.plot(histories)\n",
        "plt.xlabel(\"Epochs\")\n",
        "plt.legend(bbox_to_anchor=(1.0, 1.0), loc='upper left')\n",
        "plt.title(\"Loss Curves for Models\")\n",
        "plt.show()"
      ],
      "execution_count": 18,
      "outputs": [
        {
          "output_type": "display_data",
          "data": {
            "image/png": "[encoded data removed]",
            "text/plain": [
              "<Figure size 864x576 with 1 Axes>"
            ]
          },
          "metadata": {
            "tags": [],
            "needs_background": "light"
          }
        }
      ]
    },
    {
      "cell_type": "markdown",
      "metadata": {
        "id": "54bNF4m-w08D"
      },
      "source": [
        "## Task 9: Fine-tune Model from TF Hub"
      ]
    },
    {
      "cell_type": "code",
      "metadata": {
        "colab": {
          "base_uri": "https://localhost:8080/"
        },
        "id": "dPFXWLmHL1vb",
        "outputId": "8600f394-f44d-4d74-d690-f674bd6cde06"
      },
      "source": [
        "histories['gnews-swivel-20dim-finetuned'] = train_and_evaluate_model(module_url=module_url_1, embed_size=20, name='gnews-swivel-20dim-finetuned', trainable=True)"
      ],
      "execution_count": 16,
      "outputs": [
        {
          "output_type": "stream",
          "text": [
            "Model: \"sequential_3\"\n",
            "_________________________________________________________________\n",
            "Layer (type)                 Output Shape              Param #   \n",
            "=================================================================\n",
            "keras_layer_3 (KerasLayer)   (None, 20)                400020    \n",
            "_________________________________________________________________\n",
            "dense_9 (Dense)              (None, 266)               5586      \n",
            "_________________________________________________________________\n",
            "dense_10 (Dense)             (None, 64)                17088     \n",
            "_________________________________________________________________\n",
            "dense_11 (Dense)             (None, 1)                 65        \n",
            "=================================================================\n",
            "Total params: 422,759\n",
            "Trainable params: 422,759\n",
            "Non-trainable params: 0\n",
            "_________________________________________________________________\n",
            "None\n",
            "WARNING:tensorflow:Callback method `on_train_batch_begin` is slow compared to the batch time (batch time: 0.0043s vs `on_train_batch_begin` time: 0.0302s). Check your callbacks.\n"
          ],
          "name": "stdout"
        },
        {
          "output_type": "stream",
          "text": [
            "WARNING:tensorflow:Callback method `on_train_batch_begin` is slow compared to the batch time (batch time: 0.0043s vs `on_train_batch_begin` time: 0.0302s). Check your callbacks.\n"
          ],
          "name": "stderr"
        },
        {
          "output_type": "stream",
          "text": [
            "WARNING:tensorflow:Callback method `on_train_batch_end` is slow compared to the batch time (batch time: 0.0043s vs `on_train_batch_end` time: 0.0354s). Check your callbacks.\n"
          ],
          "name": "stdout"
        },
        {
          "output_type": "stream",
          "text": [
            "WARNING:tensorflow:Callback method `on_train_batch_end` is slow compared to the batch time (batch time: 0.0043s vs `on_train_batch_end` time: 0.0354s). Check your callbacks.\n"
          ],
          "name": "stderr"
        },
        {
          "output_type": "stream",
          "text": [
            "\n",
            "Epoch: 0, accuracy:0.9344,  loss:0.2654,  val_accuracy:0.9381,  val_loss:0.1979,  \n",
            "........."
          ],
          "name": "stdout"
        }
      ]
    },
    {
      "cell_type": "markdown",
      "metadata": {
        "id": "TxNN-MzorJ9V"
      },
      "source": [
        "## Task 10: Train Bigger Models and Visualize Metrics with TensorBoard"
      ]
    },
    {
      "cell_type": "code",
      "metadata": {
        "id": "lG6fv6Mis8xd",
        "colab": {
          "base_uri": "https://localhost:8080/"
        },
        "outputId": "b8a26ff1-c4af-48f3-f230-063aea6c90aa"
      },
      "source": [
        "module_url_4 = \"https://tfhub.dev/google/universal-sentence-encoder-large/5\"\n",
        "histories['universal-sentence-encoder-large'] = train_and_evaluate_model(module_url=module_url_4, embed_size=512, name='universal-sentence-encoder-large', trainable=False)"
      ],
      "execution_count": 19,
      "outputs": [
        {
          "output_type": "stream",
          "text": [
            "Model: \"sequential_4\"\n",
            "_________________________________________________________________\n",
            "Layer (type)                 Output Shape              Param #   \n",
            "=================================================================\n",
            "keras_layer_4 (KerasLayer)   (None, 512)               147354880 \n",
            "_________________________________________________________________\n",
            "dense_12 (Dense)             (None, 266)               136458    \n",
            "_________________________________________________________________\n",
            "dense_13 (Dense)             (None, 64)                17088     \n",
            "_________________________________________________________________\n",
            "dense_14 (Dense)             (None, 1)                 65        \n",
            "=================================================================\n",
            "Total params: 147,508,491\n",
            "Trainable params: 153,611\n",
            "Non-trainable params: 147,354,880\n",
            "_________________________________________________________________\n",
            "None\n",
            "WARNING:tensorflow:Callback method `on_train_batch_end` is slow compared to the batch time (batch time: 0.0558s vs `on_train_batch_end` time: 0.5809s). Check your callbacks.\n"
          ],
          "name": "stdout"
        },
        {
          "output_type": "stream",
          "text": [
            "WARNING:tensorflow:Callback method `on_train_batch_end` is slow compared to the batch time (batch time: 0.0558s vs `on_train_batch_end` time: 0.5809s). Check your callbacks.\n"
          ],
          "name": "stderr"
        },
        {
          "output_type": "stream",
          "text": [
            "\n",
            "Epoch: 0, accuracy:0.9338,  loss:0.3028,  val_accuracy:0.9381,  val_loss:0.1706,  \n",
            "..........."
          ],
          "name": "stdout"
        }
      ]
    },
    {
      "cell_type": "code",
      "metadata": {
        "colab": {
          "base_uri": "https://localhost:8080/",
          "height": 822
        },
        "id": "Td7kHAcxtzO8",
        "outputId": "824cd31d-79ea-47b0-bde3-48f4ab59ba27"
      },
      "source": [
        "# Load the TensorBoard notebook extension\n",
        "%reload_ext tensorboard\n",
        "\n",
        "# Open an embedded TensorBoard viewer\n",
        "%tensorboard --logdir {logdir}"
      ],
      "execution_count": 28,
      "outputs": [
        {
          "output_type": "display_data",
          "data": {
            "application/javascript": [
              "\n",
              "        (async () => {\n",
              "            const url = new URL(await google.colab.kernel.proxyPort(6007, {'cache': true}));\n",
              "            url.searchParams.set('tensorboardColab', 'true');\n",
              "            const iframe = document.createElement('iframe');\n",
              "            iframe.src = url;\n",
              "            iframe.setAttribute('width', '100%');\n",
              "            iframe.setAttribute('height', '800');\n",
              "            iframe.setAttribute('frameborder', 0);\n",
              "            document.body.appendChild(iframe);\n",
              "        })();\n",
              "    "
            ],
            "text/plain": [
              "<IPython.core.display.Javascript object>"
            ]
          },
          "metadata": {
            "tags": []
          }
        }
      ]
    },
    {
      "cell_type": "code",
      "metadata": {
        "id": "tyxRiLnQxojp"
      },
      "source": [
        "!kill 1073"
      ],
      "execution_count": 27,
      "outputs": []
    },
    {
      "cell_type": "code",
      "metadata": {
        "id": "4_Rwudlms80h"
      },
      "source": [
        ""
      ],
      "execution_count": null,
      "outputs": []
    },
    {
      "cell_type": "code",
      "metadata": {
        "id": "TFxWfePns83c"
      },
      "source": [
        ""
      ],
      "execution_count": null,
      "outputs": []
    },
    {
      "cell_type": "code",
      "metadata": {
        "id": "TsM0ZMt3s86C"
      },
      "source": [
        ""
      ],
      "execution_count": null,
      "outputs": []
    },
    {
      "cell_type": "code",
      "metadata": {
        "id": "MRO6Wkt4s889"
      },
      "source": [
        ""
      ],
      "execution_count": null,
      "outputs": []
    },
    {
      "cell_type": "code",
      "metadata": {
        "id": "jVdlhv3Ls8_6"
      },
      "source": [
        ""
      ],
      "execution_count": null,
      "outputs": []
    },
    {
      "cell_type": "code",
      "metadata": {
        "id": "7WavvT6vs9C3"
      },
      "source": [
        ""
      ],
      "execution_count": null,
      "outputs": []
    },
    {
      "cell_type": "code",
      "metadata": {
        "id": "DdL4FWe_s9Fj"
      },
      "source": [
        ""
      ],
      "execution_count": null,
      "outputs": []
    },
    {
      "cell_type": "code",
      "metadata": {
        "id": "7D9jHDdzs9IJ"
      },
      "source": [
        ""
      ],
      "execution_count": null,
      "outputs": []
    }
  ]
}